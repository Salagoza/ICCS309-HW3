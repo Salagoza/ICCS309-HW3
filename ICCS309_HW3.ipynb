{
 "cells": [
  {
   "cell_type": "code",
   "execution_count": 2,
   "metadata": {},
   "outputs": [],
   "source": [
    "import random"
   ]
  },
  {
   "cell_type": "code",
   "execution_count": 5,
   "metadata": {},
   "outputs": [
    {
     "name": "stdout",
     "output_type": "stream",
     "text": [
      "300 124 31\n"
     ]
    }
   ],
   "source": [
    "def hospitalA():\n",
    "    result = []\n",
    "    for i in range(1000):\n",
    "        girl = 0\n",
    "        boy = 0\n",
    "        for j in range(15):\n",
    "            rand = random.randint(0,1)\n",
    "            if rand == 0:\n",
    "                girl += 1\n",
    "            else:\n",
    "                boy += 1\n",
    "        result.append(1) if boy/15 >= 0.6 else result.append(0)\n",
    "    return result.count(1)\n",
    "\n",
    "def hospitalB():\n",
    "    result = []\n",
    "    for i in range(1000):\n",
    "        girl = 0\n",
    "        boy = 0\n",
    "        for j in range(45):\n",
    "            rand = random.randint(0,1)\n",
    "            if rand == 0:\n",
    "                girl += 1\n",
    "            else:\n",
    "                boy += 1\n",
    "        result.append(1) if boy/45 >= 0.6 else result.append(0)\n",
    "    return result.count(1)\n",
    "\n",
    "def hospitalC():\n",
    "    result = []\n",
    "    for i in range(1000):\n",
    "        girl = 0\n",
    "        boy = 0\n",
    "        for j in range(100):\n",
    "            rand = random.randint(0,1)\n",
    "            if rand == 0:\n",
    "                girl += 1\n",
    "            else:\n",
    "                boy += 1\n",
    "        result.append(1) if boy/100 >= 0.6 else result.append(0)\n",
    "    return result.count(1)\n",
    "\n",
    "print(hospitalA(),hospitalB(),hospitalC())"
   ]
  },
  {
   "cell_type": "code",
   "execution_count": null,
   "metadata": {},
   "outputs": [],
   "source": []
  }
 ],
 "metadata": {
  "kernelspec": {
   "display_name": "Python 3",
   "language": "python",
   "name": "python3"
  },
  "language_info": {
   "codemirror_mode": {
    "name": "ipython",
    "version": 3
   },
   "file_extension": ".py",
   "mimetype": "text/x-python",
   "name": "python",
   "nbconvert_exporter": "python",
   "pygments_lexer": "ipython3",
   "version": "3.8.3"
  }
 },
 "nbformat": 4,
 "nbformat_minor": 4
}
